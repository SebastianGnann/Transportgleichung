{
 "cells": [
  {
   "cell_type": "markdown",
   "id": "361d3484-ecd1-4170-a2f9-ca20acc758ce",
   "metadata": {},
   "source": [
    "# **Willkommen zur interaktiven Übung zum Thema \"Advektions-Dispersions-Gleichung\"**\n",
    "\n",
    "**Sebastian Gnann**\n",
    "\n",
    "\n",
    "Bei Fragen und Feedback wenden Sie sich bitte an: sebastian.gnann@hydrologie.uni-freiburg.de\n",
    "\n",
    "---\n",
    "\n",
    "## Einführung: Jupyter Notebooks\n",
    "\n",
    "Diese Online-Übung basiert auf einem sogenannten Jupyter Notebook (https://jupyter.org/). \n",
    "Ein Notebook besteht aus einzelnen Zellen, die entweder Markdown-Text oder Python-Code beinhalten.\n",
    "Sie können den Code auch ausblenden, indem Sie auf \"View > Collapse All Code\" klicken.\n",
    "\n",
    "Bitte führen Sie das gesamte Notebook von Anfang an aus, damit alle Python-Module und die Daten in der richtigen Reihenfolge geladen werden.\n",
    "Klicken Sie zunächst auf das Symbol \"Restart the kernel\". Dann können Sie jeden Abschnitt einzeln ausführen, indem Sie auf die entsprechende Zelle und dann auf das Symbol \"Run the selected cell and advance\" klicken (alternativ: Shift + Enter drücken). \n",
    "Sie können auch auf \"Restart the kernel and run all cells\" klicken, um das gesamte Notebook auszuführen. Dies sollte sicherstellen, dass alles in der richtigen Reihenfolge ausgeführt wird.\n",
    "Nun können Sie sich Stück für Stück durch die Text- und Codezellen arbeiten. \n",
    "\n",
    "Sollten Sie länger inaktiv sein, kann es vorkommen, dass das Notebook nicht mehr richtig läuft (z.B. Nachricht \"Kernel died unexpectedly\"). Starten Sie in diesem Fall das Notebook einfach neu, am besten mit \"Restart the kernel and run all cells\". Sie können dann direkt zu dem Punkt zurückkehren, an dem Sie sich befanden, und müssen sich nicht erneut durch alle Zellen klicken. Sollte das Notebook gar nicht mehr laufen, dann laden Sie bitte den gesamten Link erneut.\n",
    "\n",
    "Auf der linken Seite können Sie sich auch ein Inhaltsverzeichnis anzeigen lassen, indem Sie auf \"Table of Contents\" klicken. Das hilft beim Navigieren."
   ]
  },
  {
   "cell_type": "markdown",
   "id": "a3ddf1fc-fad4-413c-8ce2-c71ac03f3223",
   "metadata": {},
   "source": [
    "## Inhalt\n",
    "### **Struktur der Übung**\n",
    "- Einleitung und Lösungen der 1D/2D Advektions-Dispersions-Gleichung\n",
    "- Verhalten der 1D/2D Advektions-Dispersions-Gleichung\n",
    "- Anwendungsbeispiel mit echten Daten\n",
    "\n",
    "<span style=\"color:DarkRed\">\n",
    "    \n",
    "### **Lernziele**\n",
    "Sie sollten verstehen:\n",
    "- wie die Lösungen der 1D/2D Advektions-Dispersions-Gleichung in Raum und Zeit aussehen\n",
    "- wie die verschiedenen Parameter die räumliche und zeitliche Ausbreitung einer Schadstoffwolke beeinflussen\n",
    "- wie man die Lösungen nutzen kann, um mit gemessenen Durchbruchskurven Eigenschaften eines Systems abzuleiten (z.B. Aquifer) \n",
    "\n",
    "</span>"
   ]
  },
  {
   "cell_type": "markdown",
   "id": "524d649b-33c6-463c-9203-93f4b9e7353b",
   "metadata": {
    "tags": []
   },
   "source": [
    "## Notwendige Python Packages\n",
    "Es gibt verschieden sogenannte Packages für Python, die bestimme Funktionen ausführen. \n",
    "Manche Packages helfen beim Erstellen von Grafiken, andere erledigen bestimmte Rechenaufgaben (z.B. statistische Tests).\n",
    "Diese müssen am Anfang importiert werden. Wird das nicht gemacht, kann der nachstehende Code nicht ausgeführt werden."
   ]
  },
  {
   "cell_type": "code",
   "execution_count": 1,
   "id": "9af0c215-0ddb-44f7-af08-228ba9ac5cf4",
   "metadata": {
    "jupyter": {
     "source_hidden": true
    }
   },
   "outputs": [],
   "source": [
    "# import all necessary Python packages\n",
    "import matplotlib.pyplot as plt\n",
    "from matplotlib.colors import Normalize\n",
    "import imageio.v2 as imageio\n",
    "import numpy as np\n",
    "import pandas as pd\n",
    "from scipy import special    \n",
    "import ipywidgets as widgets\n",
    "\n",
    "# to suppress some warnings\n",
    "import warnings\n",
    "warnings.filterwarnings(\"ignore\", category=DeprecationWarning) "
   ]
  },
  {
   "cell_type": "markdown",
   "id": "174b78fb-3d3f-4b08-8b0b-b472ac042af5",
   "metadata": {},
   "source": [
    "# Einleitung und Lösungen der Advektions-Dispersions-Gleichung\n",
    "\n",
    "\n",
    "## Parameter und Variablen:\n",
    "- $C$ [mg/L] = Konzentration (volumen-gewichtet)\n",
    "- $C_F$ [mg/L] = durchfluss-gewichtete Konzentration\n",
    "- $t$ [s] = Zeit\n",
    "- $x$ [m] = Ausdehnung in x-Richtung (1D)\n",
    "- $y$ [m] = Ausdehnung in y-Richtung \n",
    "- $D_L$ [m/s²] = longitudinaler Dispersionskoeffizient\n",
    "- $D_T$ [m/s²] = transversaler Dispersionskoeffizient\n",
    "- $v$ [m/s] = Transportgeschwindigkeit\n",
    "- $M$ [mg] = Masse des Schadstoffs\n",
    "- $Q$ [m³/s] = Durchfluss\n",
    "- $A$ [m²] = Fläche (Aquiferquerschnitt)\n",
    "- $H$ [m] = Mächtigkeit\n",
    "- $n$ [-] = effektive Porosität\n",
    "\n",
    "## Die Advektions-Dispersions-Gleichung\n",
    "\n",
    "Für die Ausbreitung und Vermischung von konservativen Stoffen im Grundwasser sind drei verschiedene Prozesse wesentlich: Advektion, Diffusion und Dispersion.\n",
    "Im folgenden fassen wir die Dispersion und die (meist deutlich kleinere) Diffusion zusammen. \n",
    "Verbindet man die verschiedenen Stoffflüsse mit der Massenerhaltung, ergibt sich die 1D Advektions-Dispersions-Gleichung (z.B. Fetter et al., 1999):\n",
    "$$ D_L {\\partial^2 C \\over \\partial x^2} - v {\\partial C \\over \\partial x} = {\\partial C \\over \\partial t}$$\n",
    "\n",
    "Betrachtet man zwei Dimensionen kommt noch ein transversaler Dispersionsterm hinzu:\n",
    "$$ D_L {\\partial^2 C \\over \\partial x^2} + D_T {\\partial^2 C \\over \\partial y^2} - v {\\partial C \\over \\partial x} = {\\partial C \\over \\partial t}$$\n",
    "\n",
    "## Lösungen der Advektions-Dispersions-Gleichung\n",
    "\n",
    "Es gibt nun verschiedene analytische Lösungen für verschiedene Anfangs- und Randbedingungen.\n",
    "Die Lösung der 1D Advektions-Dispersions-Gleichung für einen Pulseintrag der Masse $M$ in die Fläche $A$ ist (z.B. Bear, 1972):\n",
    "\n",
    "$$ C(x,t) = {M \\over nA} {1 \\over \\sqrt{4 \\pi D_L t}} \\exp{\\left[ - (x-v t)^2 \\over 4 D_L t \\right]} $$\n",
    "\n",
    "\n",
    "Die Lösung der 1D Advektions-Dispersions-Gleichung für einen kontinuierlichen Eintrag mit der Konzentration $C_0$ ist (z.B. Fetter et al., 1999):\n",
    "\n",
    "$$ C(x,t) = {C_0 \\over 2} \\text{erfc}{\\left[ x-v t \\over \\sqrt{4 D_L t} \\right]} $$\n",
    "\n",
    "\n",
    "Die Lösung der 2D Advektions-Dispersions-Gleichung für einen Pulseintrag ist (z.B. Bear, 1972):\n",
    "\n",
    "$$ C(x,y,t) = {M \\over nH} {1 \\over 4 \\pi t \\sqrt{D_L D_T}} \\exp{\\left[ {- (x-v t)^2 \\over 4 D_L t} - {y^2 \\over 4 D_T t} \\right]} $$\n",
    "\n",
    "\n",
    "Außerdem gibt es noch Lösungen für die durchfluss-gewichtete Konzentration, die Anwendung finden, wenn die Konzentration im Durchfluss gemessen wird (z.B. Tracer-Pumpversuch, siehe Leibundgut et al., 2009).\n",
    "Die Lösung der 1D Advektions-Dispersions-Gleichung für einen Pulseintrag bei Durchfluss $Q$ ist:\n",
    "\n",
    "$$ C_F(x,t) = {M \\over Q} {x \\over \\sqrt{4 \\pi D_L t^3}} \\exp{\\left[ - (x-v t)^2 \\over 4 D_L t \\right]} $$\n",
    "\n",
    "## Quellen\n",
    "\n",
    "Bear, J. (1972). Dynamics of fluids in porous media. Courier Corporation.\n",
    "\n",
    "Fetter, C. W., Boving, T. B., & Kreamer, D. K. (1999). Contaminant hydrogeology (Vol. 1138). Upper Saddle River, NJ: Prentice hall.\n",
    "\n",
    "Leibundgut, C., Maloszewski, P., & Külls, C. (2009). Tracers in hydrology (p. 432). Chichester: Wiley-Blackwell."
   ]
  },
  {
   "cell_type": "code",
   "execution_count": 2,
   "id": "ea56066d-be0d-4c3b-ab1e-698e65db8943",
   "metadata": {
    "jupyter": {
     "source_hidden": true
    }
   },
   "outputs": [],
   "source": [
    "def one_d_transport_equation_pulse(t, x, M, n, A, D_L, v):\n",
    "    # 1d advection dispersion equation for a pulse like injection\n",
    "    C = M/(n*A) * (1/np.sqrt(4*np.pi*D_L*t)) * np.exp(-(x-v*t)**2/(4*D_L*t))\n",
    "    return C\n",
    "\n",
    "def one_d_transport_equation_continuous(t, x, C_0, D_L, v):    \n",
    "    # 1d advection dispersion equation for a continuous injection\n",
    "    C = (C_0/2) * special.erfc((x - v*t)/(np.sqrt(4*D_L*t)))\n",
    "    return C\n",
    "\n",
    "def two_d_transport_equation_pulse(t, x, y, M, n, H, D_L, D_T, v):\n",
    "    # 2d advection dispersion equation for a pulse like injection\n",
    "    C = M/(n*H) * (1/(4*np.pi*t*np.sqrt(D_L*D_T))) * np.exp(-(x-v*t)**2/(4*D_L*t)-y**2/(4*D_T*t))\n",
    "    return C\n",
    "\n",
    "def one_d_transport_equation_pulse_flux(t, x, M, Q, D_L, v):\n",
    "    # 1d advection dispersion equation for a pulse like injection (flux-weighted concentration)\n",
    "    C = M/Q * (x/np.sqrt(4*np.pi*D_L*t**3)) * np.exp(-(x-v*t)**2/(4*D_L*t))\n",
    "    return C"
   ]
  },
  {
   "cell_type": "markdown",
   "id": "26c89a26-5063-4457-8f5c-1836b7946444",
   "metadata": {},
   "source": [
    "# Verhalten der 1D Advektions-Dispersions-Gleichung\n",
    "\n",
    "Im folgenden wird die Advektions-Dispersions-Gleichung für verschiedene Parameterwerte gelöst. Man kann die Lösung entweder im Raum oder in der Zeit betrachten, um das Ausbreiten eines Stoffes zu veranschaulichen.\n",
    "\n",
    "<span style=\"color:Indigo\">**Frage**: *Wieso ist die Durchbruchskurve (zeitliche Entwicklung, rechte Grafik) asymmetrisch und die räumliche Verteilung nicht (linke Grafik)?*</span>\n"
   ]
  },
  {
   "cell_type": "code",
   "execution_count": 3,
   "id": "0e20cc56-fdb0-43f2-94a7-20d06695e8cb",
   "metadata": {
    "jupyter": {
     "source_hidden": true
    },
    "tags": []
   },
   "outputs": [
    {
     "data": {
      "application/vnd.jupyter.widget-view+json": {
       "model_id": "84df3b554eac4dee9fc5c5542159719b",
       "version_major": 2,
       "version_minor": 0
      },
      "text/plain": [
       "interactive(children=(FloatSlider(value=20.000000000000004, description='D_L', max=39.99, min=0.01, step=0.01)…"
      ]
     },
     "metadata": {},
     "output_type": "display_data"
    }
   ],
   "source": [
    "def f(D_L,v):\n",
    "    \n",
    "    # fixed parameters\n",
    "    A = 4000 # [l/m]\n",
    "    M = 1000 # [mg]\n",
    "    n = 0.25 # [-]\n",
    "    \n",
    "    # plot results\n",
    "    fig, axes = plt.subplots(figsize=(12, 3), constrained_layout=True, nrows=1, ncols=2, gridspec_kw={'width_ratios': [2, 2]})\n",
    "    \n",
    "    # solve transport equation in space for a few times\n",
    "    x = np.linspace(0, 500, 1001) \n",
    "    #axes[0].step(x, one_d_transport_equation_pulse(1, x, M, n, A, D_L, v), '-', c='grey', label='t=1')\n",
    "    axes[0].plot(x, one_d_transport_equation_pulse(20, x, M, n, A, D_L, v), '-', c='darkred', label='t=20')\n",
    "    axes[0].plot(x, one_d_transport_equation_pulse(50, x, M, n, A, D_L, v), '-', c='orangered', label='t=50')\n",
    "    axes[0].plot(x, one_d_transport_equation_pulse(80, x, M, n, A, D_L, v), '-', c='lightsalmon', label='t=80')\n",
    "    axes[0].set_xlabel('Abstand [m]')\n",
    "    axes[0].set_ylabel('Konzentration [mg/L]')\n",
    "    axes[0].legend(loc='upper right')\n",
    "\n",
    "    # solve transport equation in time for a few locations\n",
    "    t = np.linspace(1, 251, 1001)\n",
    "    #axes[1].step(x, one_d_transport_equation_pulse(t, 1, M, n, A, D_L, v), '-', c='grey', label='x=1')\n",
    "    axes[1].plot(t, one_d_transport_equation_pulse(t, 25, M, n, A, D_L, v), '-', c='midnightblue', label='x=25')\n",
    "    axes[1].plot(t, one_d_transport_equation_pulse(t, 50, M, n, A, D_L, v), '-', c='slateblue', label='x=50')\n",
    "    axes[1].plot(t, one_d_transport_equation_pulse(t, 100, M, n, A, D_L, v), '-', c='lightsteelblue', label='x=100')\n",
    "    axes[1].set_xlabel('Zeit [s]')\n",
    "    axes[1].set_ylabel('Konzentration [mg/L]')\n",
    "    axes[1].legend(loc='upper right')\n",
    "    \n",
    "    plt.show()\n",
    "    \n",
    "widgets.interact(f, D_L=(0.01,39.99,0.01), v=(0.01,3.99,0.01))\n",
    "\n",
    "%matplotlib inline"
   ]
  },
  {
   "cell_type": "markdown",
   "id": "eb32dd24-10c2-4ece-ba61-25549a6556b6",
   "metadata": {},
   "source": [
    "## Lösung für einen kontinuierlichen Stoffeintrag\n",
    "Ist der Stoffeintrag kontinuerlich, so ergibt sich eine andere Lösung. Bei $x$=0 bleibt die Konzentration konstant und die Schadstofffahne breitet sich von dort aus immer weiter aus.\n",
    "\n",
    "<span style=\"color:Indigo\">**Frage**: *Welchem Wert nähert sich die Konzentration für späte Zeiten $t$ an?*</span>\n"
   ]
  },
  {
   "cell_type": "code",
   "execution_count": 4,
   "id": "3084beee-7f98-4830-95a3-194c99a88218",
   "metadata": {
    "jupyter": {
     "source_hidden": true
    }
   },
   "outputs": [
    {
     "data": {
      "application/vnd.jupyter.widget-view+json": {
       "model_id": "f09de77b43614e90b115097ed0caee8c",
       "version_major": 2,
       "version_minor": 0
      },
      "text/plain": [
       "interactive(children=(FloatSlider(value=20.000000000000004, description='D_L', max=39.99, min=0.01, step=0.01)…"
      ]
     },
     "metadata": {},
     "output_type": "display_data"
    }
   ],
   "source": [
    "def f(D_L,v):\n",
    "    \n",
    "    # fixed parameters\n",
    "    C_0 = 100 # [mg]\n",
    "    \n",
    "    # plot results\n",
    "    fig, axes = plt.subplots(figsize=(12, 3), constrained_layout=True, nrows=1, ncols=2, gridspec_kw={'width_ratios': [2, 2]})\n",
    "    \n",
    "    # solve transport equation in space for a few times\n",
    "    x = np.linspace(0, 500, 1001)\n",
    "    #axes[0].step(x, one_d_transport_equation_continuous(1, x, C_0, D_L, v), '-', c='grey', label='t=1')\n",
    "    axes[0].plot(x, one_d_transport_equation_continuous(20, x, C_0, D_L, v), '-', c='darkred', label='t=20')\n",
    "    axes[0].plot(x, one_d_transport_equation_continuous(50, x, C_0, D_L, v), '-', c='orangered', label='t=50')\n",
    "    axes[0].plot(x, one_d_transport_equation_continuous(80, x, C_0, D_L, v), '-', c='lightsalmon', label='t=80')\n",
    "    axes[0].set_xlabel('Abstand [m]')\n",
    "    axes[0].set_ylabel('Konzentration [mg/L]')\n",
    "    axes[0].legend(loc='upper right')\n",
    "\n",
    "    # solve transport equation in time for a few locations\n",
    "    t = np.linspace(1, 251, 1001)    \n",
    "    #ax.step(x, one_d_transport_equation_continuous(t, 1, C_0, D_L, v), '-', c='grey', label='x=1')\n",
    "    axes[1].plot(t, one_d_transport_equation_continuous(t, 25, C_0, D_L, v), '-', c='midnightblue', label='x=25')\n",
    "    axes[1].plot(t, one_d_transport_equation_continuous(t, 50, C_0, D_L, v), '-', c='slateblue', label='x=50')\n",
    "    axes[1].plot(t, one_d_transport_equation_continuous(t, 100, C_0, D_L, v), '-', c='lightsteelblue', label='x=100')\n",
    "    axes[1].set_xlabel('Zeit [s]')\n",
    "    axes[1].set_ylabel('Konzentration [mg/L]')\n",
    "    axes[1].legend(loc='upper right')\n",
    "    \n",
    "    plt.show()\n",
    "\n",
    "widgets.interact(f, D_L=(0.01,39.99,0.01), v=(0.01,3.99,0.01))\n",
    "\n",
    "%matplotlib inline"
   ]
  },
  {
   "cell_type": "markdown",
   "id": "ca1b0c81-4e6a-4e04-9f28-55695f523a28",
   "metadata": {},
   "source": [
    "## Einfluss der Parameter auf die Transportgleichung\n",
    "\n",
    "Man kann nun auch die Parameter der Gleichung variieren (z.B. den Dispersionskoeffizienten oder die mittlere Fließgeschwindigkeit), um zu schauen wie sich die Lösung am selben Ort bzw. zur selben Zeit verändert (dies entspricht einer einfachen Sensitivitätsanalyse). \n",
    "\n",
    "<span style=\"color:Indigo\">**Frage**: *Was passiert mit der Durchbruchskurve (rechts) bzw. der räumlichen Verteilung (links), wenn der Dispersionskoeffizient $D_L$ erhöht wird? Und was, wenn die mittlere Geschwindigkeit $v$ verringert wird?*</span>\n"
   ]
  },
  {
   "cell_type": "code",
   "execution_count": 5,
   "id": "cf7ccfdc-b7c5-4002-8bb9-354232dd4a50",
   "metadata": {
    "jupyter": {
     "source_hidden": true
    }
   },
   "outputs": [
    {
     "data": {
      "application/vnd.jupyter.widget-view+json": {
       "model_id": "6c749e38a75046bcb98f0fa7f45d0609",
       "version_major": 2,
       "version_minor": 0
      },
      "text/plain": [
       "interactive(children=(FloatSlider(value=20.000000000000004, description='D_L', max=39.99, min=0.01, step=0.01)…"
      ]
     },
     "metadata": {},
     "output_type": "display_data"
    }
   ],
   "source": [
    "# show base case and change in both space and time \n",
    "def f(D_L,v):\n",
    "    \n",
    "    # fixed parameters\n",
    "    A = 4000 # [l/m]\n",
    "    M = 1000 # [mg]\n",
    "    n = 0.25 # [-]\n",
    "\n",
    "    # variable parameters\n",
    "    D_L_default = 20.0 #1.5 # [m²/s]\n",
    "    v_default = 2.0 # [m/s]\n",
    "\n",
    "    # time and space variables\n",
    "    x = np.linspace(0, 250, 1001)\n",
    "    x_fix = 50\n",
    "    t = np.linspace(1, 126, 1001)\n",
    "    t_fix = 50\n",
    "\n",
    "    # plot results\n",
    "    fig, axes = plt.subplots(figsize=(12, 3), constrained_layout=True, nrows=1, ncols=2, gridspec_kw={'width_ratios': [2, 2]})\n",
    "    \n",
    "    axes[0].axvline(x = x_fix, color = 'lightgrey')\n",
    "    axes[0].plot(x, one_d_transport_equation_pulse(t_fix, x, M, n, A, D_L_default, v_default), '-', c='grey', label='D_L = 20.0; v = 2.0')\n",
    "    axes[0].plot(x, one_d_transport_equation_pulse(t_fix, x, M, n, A, D_L, v), '-', c='tab:blue', label='D_L = ' + str(np.round(D_L,2)) + '; v = ' + str(np.round(v,2)))\n",
    "    axes[0].set_title('Zeit = ' + str(t_fix) + 's')\n",
    "    axes[0].set_xlabel('Abstand [m]')\n",
    "    axes[0].set_ylabel('Konzentration [mg/L]')\n",
    "    axes[0].legend(loc='upper right')\n",
    "\n",
    "    axes[1].axvline(x = t_fix, color = 'lightgrey')  \n",
    "    axes[1].plot(t, one_d_transport_equation_pulse(t, x_fix, M, n, A, D_L_default, v_default), '-', c='grey', label='D_L = 20.0; v = 2.0')\n",
    "    axes[1].plot(t, one_d_transport_equation_pulse(t, x_fix, M, n, A, D_L, v), '-', c='tab:blue', label='D_L = ' + str(np.round(D_L,2)) + '; v = ' + str(np.round(v,2)))\n",
    "    axes[1].set_title('Abstand = ' + str(x_fix) + 'm')\n",
    "    axes[1].set_xlabel('Zeit [s]')\n",
    "    axes[1].set_ylabel('Konzentration [mg/L]')\n",
    "    axes[1].legend(loc='upper right')\n",
    "    \n",
    "    plt.show()\n",
    "\n",
    "widgets.interact(f, D_L=(0.01,39.99,0.01), v=(0.01,3.99,0.01))\n",
    "\n",
    "%matplotlib inline"
   ]
  },
  {
   "cell_type": "markdown",
   "id": "29c05d41-6e4f-4df5-bd00-600d07fc3ebb",
   "metadata": {},
   "source": [
    "# Lösung der 2D Advektions-Dispersions-Gleichung\n",
    "Im folgenden wird die 2D Advektions-Dispersions-Gleichung gelöst. Mithilfe des Reglers können Sie den zeitlichen Verlauf nachverfolgen. \n",
    "\n",
    "<span style=\"color:Indigo\">**Frage**: *Die Schadstoffwolke bewegt sich mit mittlerer Geschwindigkeit $v$ und verschmiert sowohl in $x$- als auch $y$-Richtung. In welche Richtung ist die \"Verschmierung\", d.h. die Dispersion, stärker?*</span>"
   ]
  },
  {
   "cell_type": "code",
   "execution_count": 6,
   "id": "3fcd9571-18a2-44a0-98ad-b9318dd2b4fd",
   "metadata": {
    "jupyter": {
     "source_hidden": true
    },
    "tags": []
   },
   "outputs": [
    {
     "data": {
      "application/vnd.jupyter.widget-view+json": {
       "model_id": "6ddfe95cb72f47bc98a3aebdfa64a8c6",
       "version_major": 2,
       "version_minor": 0
      },
      "text/plain": [
       "interactive(children=(IntSlider(value=100, description='t', max=500, min=10, step=10), Output()), _dom_classes…"
      ]
     },
     "metadata": {},
     "output_type": "display_data"
    }
   ],
   "source": [
    "def f(t):\n",
    "    \n",
    "    # fixed parameters\n",
    "    M = 1000 # [mg]\n",
    "    n = 0.25 # [-]\n",
    "    H = 10 # [m]\n",
    "    D_L = 1 # [m²/s]\n",
    "    D_T = D_L*0.1 # [m²/s]\n",
    "    v = 1.0 # [m/s]\n",
    "\n",
    "    # time and space variables\n",
    "    x = np.linspace(0, 500, 1001)\n",
    "    y = np.linspace(-70, 70, 1001)\n",
    "    X, Y = np.meshgrid(x, y)\n",
    "    #t = np.linspace(1, 126, 1001)\n",
    "    \n",
    "    # plot results\n",
    "    fig = plt.figure(figsize=(10,10))    \n",
    "    ax = fig.add_subplot(111, projection='3d')   \n",
    "    ax.set_box_aspect(aspect = (2,1,1))\n",
    "    p = ax.plot_surface(X, Y, two_d_transport_equation_pulse(t, X, Y, M, n, H, D_L, D_T, v), cmap='viridis')  \n",
    "    ax.set_zlim(0, 1) \n",
    "    ax.set_xlabel('x [m]')\n",
    "    ax.set_ylabel('y [m]')\n",
    "    ax.set_zlabel('C [mg/L]')\n",
    "    ax.zaxis.labelpad = -1\n",
    "    \n",
    "    plt.show()\n",
    "    \n",
    "widgets.interact(f, t=widgets.IntSlider(min=10, max=500, step=10, value=100))\n",
    "\n",
    "%matplotlib inline\n",
    "\n",
    "# make animated gif file\n",
    "def make_gif():\n",
    "    # generate the individual frames for different time points\n",
    "    frames = []\n",
    "    for t in np.arange(10,500,10):  # replace 10 with the desired time range\n",
    "        f(t)  # call the function to plot at time t\n",
    "        plt.savefig('./figures/tmp/frame_{}.png'.format(t))  # save the frame as an image\n",
    "        frames.append(imageio.imread('./figures/tmp/frame_{}.png'.format(t)))  # add the frame to the list\n",
    "        plt.close()  # clear the plot\n",
    "\n",
    "    # combine the individual frames into a GIF\n",
    "    imageio.mimsave('./figures/animation.gif', frames)\n",
    "    \n",
    "#make_gif()"
   ]
  },
  {
   "cell_type": "markdown",
   "id": "83e53936-52b8-4b27-927d-b20f80b63213",
   "metadata": {},
   "source": [
    "# Anwendungsbeispiel mit echten Daten\n",
    "\n",
    "Wir laden nun echte Messdaten aus einem Säulenversuch im Labor und versuchen die Parameterwerte zu finden, die das System am besten beschreiben. "
   ]
  },
  {
   "cell_type": "code",
   "execution_count": 7,
   "id": "4cde2a30-4832-4bde-afa6-ad099420445b",
   "metadata": {
    "jupyter": {
     "source_hidden": true
    }
   },
   "outputs": [
    {
     "data": {
      "text/html": [
       "<div>\n",
       "<style scoped>\n",
       "    .dataframe tbody tr th:only-of-type {\n",
       "        vertical-align: middle;\n",
       "    }\n",
       "\n",
       "    .dataframe tbody tr th {\n",
       "        vertical-align: top;\n",
       "    }\n",
       "\n",
       "    .dataframe thead th {\n",
       "        text-align: right;\n",
       "    }\n",
       "</style>\n",
       "<table border=\"1\" class=\"dataframe\">\n",
       "  <thead>\n",
       "    <tr style=\"text-align: right;\">\n",
       "      <th></th>\n",
       "      <th>Zeit [s]</th>\n",
       "      <th>Konzentration [mug/l]</th>\n",
       "    </tr>\n",
       "  </thead>\n",
       "  <tbody>\n",
       "    <tr>\n",
       "      <th>0</th>\n",
       "      <td>1.00</td>\n",
       "      <td>1.246923e-130</td>\n",
       "    </tr>\n",
       "    <tr>\n",
       "      <th>1</th>\n",
       "      <td>7.25</td>\n",
       "      <td>1.331792e-14</td>\n",
       "    </tr>\n",
       "    <tr>\n",
       "      <th>2</th>\n",
       "      <td>13.50</td>\n",
       "      <td>1.218195e-06</td>\n",
       "    </tr>\n",
       "    <tr>\n",
       "      <th>3</th>\n",
       "      <td>19.75</td>\n",
       "      <td>5.429602e-04</td>\n",
       "    </tr>\n",
       "    <tr>\n",
       "      <th>4</th>\n",
       "      <td>26.00</td>\n",
       "      <td>8.100748e-03</td>\n",
       "    </tr>\n",
       "  </tbody>\n",
       "</table>\n",
       "</div>"
      ],
      "text/plain": [
       "   Zeit [s]  Konzentration [mug/l]\n",
       "0      1.00          1.246923e-130\n",
       "1      7.25           1.331792e-14\n",
       "2     13.50           1.218195e-06\n",
       "3     19.75           5.429602e-04\n",
       "4     26.00           8.100748e-03"
      ]
     },
     "execution_count": 7,
     "metadata": {},
     "output_type": "execute_result"
    }
   ],
   "source": [
    "C = pd.read_csv(\"Messdaten_Konzentration.csv\", sep=',') # load data\n",
    "C.head() # show the first 5 data points"
   ]
  },
  {
   "cell_type": "code",
   "execution_count": 8,
   "id": "f0ded4a4-24fb-4d79-a7c6-95849bd4a83f",
   "metadata": {
    "jupyter": {
     "source_hidden": true
    }
   },
   "outputs": [
    {
     "data": {
      "image/png": "[encoded data removed]",
      "text/plain": [
       "<Figure size 600x300 with 1 Axes>"
      ]
     },
     "metadata": {},
     "output_type": "display_data"
    }
   ],
   "source": [
    "# plot data\n",
    "fig, ax = plt.subplots(figsize=(6, 3))\n",
    "ax.plot(C[\"Zeit [s]\"], C[\"Konzentration [mug/l]\"], 'o', c='tab:blue')\n",
    "plt.xlabel('Zeit [s]')\n",
    "plt.ylabel('Konzentration [mug/L]')\n",
    "%matplotlib inline"
   ]
  },
  {
   "cell_type": "markdown",
   "id": "001d6e72-28d7-4474-af65-5cad78d14c36",
   "metadata": {},
   "source": [
    "## Kalibrierung der Kurve\n",
    "Sie können nun die Regler nutzen, um die Parameterwerte zu ändern und dadurch die theoretische Kurve and die Messdaten anpassen (Eichung bzw. Kalibrierung).\n",
    "\n",
    "<span style=\"color:Indigo\">**Frage**: *Für welche Werte von $D_T$ und $v$ passt die theoretische Lösung am besten mit den gemessenen Werten zusammen?*</span>"
   ]
  },
  {
   "cell_type": "code",
   "execution_count": 9,
   "id": "b683569f-b82e-4f6d-864b-c05dedf4cde7",
   "metadata": {
    "jupyter": {
     "source_hidden": true
    }
   },
   "outputs": [
    {
     "data": {
      "application/vnd.jupyter.widget-view+json": {
       "model_id": "595a43b421c64fa1935d838e1ed52e91",
       "version_major": 2,
       "version_minor": 0
      },
      "text/plain": [
       "interactive(children=(FloatSlider(value=5.05, description='D_L', max=10.0, min=0.1), FloatSlider(value=1.05, d…"
      ]
     },
     "metadata": {},
     "output_type": "display_data"
    }
   ],
   "source": [
    "def f(D_L, v):\n",
    "    \n",
    "    # fixed parameters\n",
    "    Q = 617 # [l/s]\n",
    "    M = 1000000 # [µg]\n",
    "    x = 450 # [m]\n",
    "    \n",
    "    # solve transport equation\n",
    "    C_calc = one_d_transport_equation_pulse_flux(C[\"Zeit [s]\"], x, M, Q, D_L, v)\n",
    "    \n",
    "    # plot results\n",
    "    fig, ax = plt.subplots(figsize=(6, 3))\n",
    "    ax.plot(C[\"Zeit [s]\"], C[\"Konzentration [mug/l]\"], 'o', c='tab:blue', label='Gemessen')\n",
    "    ax.plot(C[\"Zeit [s]\"], C_calc, '-', c='tab:orange', label='Berechnet')\n",
    "    ax.set_xlim([0, 1500])\n",
    "    plt.xlabel('Zeit [s]')\n",
    "    plt.ylabel('Konzentration [mug/L]')\n",
    "    plt.legend()\n",
    "    \n",
    "    plt.show()\n",
    "\n",
    "widgets.interact(f, D_L=(0.1,10.0), v=(0.1,2.0))\n",
    "\n",
    "%matplotlib inline"
   ]
  },
  {
   "cell_type": "markdown",
   "id": "be1243ab-edd5-447e-b218-fbca0d59665e",
   "metadata": {},
   "source": [
    "## Automatische Kalibrierung\n",
    "Das manuelle Anpassen der Kurve ist in diesem Fall recht einfach, wird bei komplizierteren Problemen aber schnell sehr zeitaufwändig.\n",
    "Der folgende Code-Block findet automatisch geeignete Parameterwerte indem er eine sogenannte Zielfunktion minimiert.\n",
    "\n",
    "<span style=\"color:Indigo\">**Zusatzfrage**: *Der unten stehende Code findet automatisch die optimalen Werte. Wie kann man in einfachen Worten beschreiben, was der Code tut?*</span>"
   ]
  },
  {
   "cell_type": "code",
   "execution_count": 10,
   "id": "986cd583-e6f7-4019-9583-291c17e4eaab",
   "metadata": {
    "jupyter": {
     "source_hidden": true
    }
   },
   "outputs": [
    {
     "data": {
      "image/png": "[encoded data removed]",
      "text/plain": [
       "<Figure size 600x300 with 1 Axes>"
      ]
     },
     "metadata": {},
     "output_type": "display_data"
    }
   ],
   "source": [
    "def rmse(params):\n",
    "    \n",
    "    # extract parameters\n",
    "    D_L = params[0]\n",
    "    v = params[1]\n",
    "    \n",
    "    # fixed parameters\n",
    "    Q = 617 # [l/s]\n",
    "    M = 1000000 # [µg]\n",
    "    x = 450 # [m]\n",
    "    \n",
    "    # solve transport equation\n",
    "    C_calc = one_d_transport_equation_pulse_flux(C[\"Zeit [s]\"], x, M, Q, D_L, v)\n",
    "    \n",
    "    # calculate root mean squared error (rmse)    \n",
    "    rmse = np.sqrt(np.mean((C_calc-C[\"Konzentration [mug/l]\"])**2))\n",
    "        \n",
    "    return rmse\n",
    "\n",
    "# optimize parameters\n",
    "from scipy import optimize\n",
    "bounds = [(0.01, 10.0), (0.01, 2.0)] # \n",
    "result = optimize.dual_annealing(rmse, bounds, maxiter=100)\n",
    "optimized_variables = result.x\n",
    "\n",
    "# fixed parameters\n",
    "Q = 617 # [l/s]\n",
    "M = 1000000 # [µg]\n",
    "x = 450 # [m]\n",
    "    \n",
    "# solve transport equation\n",
    "C_calc = one_d_transport_equation_pulse_flux(C[\"Zeit [s]\"], x, M, Q, optimized_variables[0], optimized_variables[1])\n",
    "    \n",
    "# plot results\n",
    "fig, ax = plt.subplots(figsize=(6, 3))\n",
    "ax.plot(C[\"Zeit [s]\"], C[\"Konzentration [mug/l]\"], 'o', c='tab:blue', label='Gemessen')\n",
    "ax.plot(C[\"Zeit [s]\"], C_calc, '-', c='tab:orange', label='Berechnet')\n",
    "ax.set_xlim([0, 1500])\n",
    "plt.xlabel('Zeit [s]')\n",
    "plt.ylabel('Konzentration [mug/L]')\n",
    "plt.title('D_L = ' + str(np.round(optimized_variables[0],2)) + '; v = ' + str(np.round(optimized_variables[1],2)))\n",
    "plt.legend()\n",
    "\n",
    "%matplotlib inline"
   ]
  },
  {
   "cell_type": "code",
   "execution_count": 11,
   "id": "ef7cf782-0a60-47f3-a229-581906c7da8c",
   "metadata": {
    "tags": []
   },
   "outputs": [
    {
     "data": {
      "image/png": "[encoded data removed]",
      "text/plain": [
       "<Figure size 640x480 with 1 Axes>"
      ]
     },
     "metadata": {},
     "output_type": "display_data"
    }
   ],
   "source": [
    "# generate data\n",
    "\n",
    "# fixed parameters\n",
    "A = 4000 # [l/m]\n",
    "M = 1000 # [mg]\n",
    "n = 0.25 # [-]\n",
    "\n",
    "# variable parameters\n",
    "D_L_default = 2.0 # [m²/s]\n",
    "v_default = 1.2 # [m/s]\n",
    "\n",
    "# time and space variables\n",
    "x = np.linspace(0, 250, 1001)\n",
    "x_fix = 50\n",
    "t = np.linspace(1, 126, 21)\n",
    "t_fix = 50\n",
    "\n",
    "# plot results\n",
    "import random\n",
    "c = one_d_transport_equation_pulse(t, x_fix, M, n, A, D_L_default, v_default) \n",
    "err = np.random.uniform(-1, 1, len(t))\n",
    "c_err = c * (1+err/5)\n",
    "\n",
    "fig = plt.plot()\n",
    "plt.plot(t, c, '-', c='grey', label='')\n",
    "plt.plot(t, c_err, '-', c='red', label='')\n",
    "plt.xlabel('Zeit [s]')\n",
    "plt.ylabel('Konzentration [mg/L]')\n",
    "\n",
    "plt.show()\n",
    "\n",
    "%matplotlib inline\n",
    "\n",
    "results = pd.DataFrame({\n",
    "    'Zeit [s]': t,\n",
    "    'Konzentration [mg/l]': c_err\n",
    "})\n",
    "results.to_csv('Messdaten_Konzentration.csv', index=False)\n"
   ]
  }
 ],
 "metadata": {
  "kernelspec": {
   "display_name": "Python 3 (ipykernel)",
   "language": "python",
   "name": "python3"
  },
  "language_info": {
   "codemirror_mode": {
    "name": "ipython",
    "version": 3
   },
   "file_extension": ".py",
   "mimetype": "text/x-python",
   "name": "python",
   "nbconvert_exporter": "python",
   "pygments_lexer": "ipython3",
   "version": "3.11.5"
  }
 },
 "nbformat": 4,
 "nbformat_minor": 5
}
