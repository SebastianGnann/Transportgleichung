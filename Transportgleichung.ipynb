{
 "cells": [
  {
   "cell_type": "markdown",
   "id": "361d3484-ecd1-4170-a2f9-ca20acc758ce",
   "metadata": {},
   "source": [
    "# **Willkommen zur interaktiven Vorlesung**\n",
    "\n",
    "**Sebastian Gnann**\n",
    "\n",
    "\n",
    "Bei Fragen und Feedback wenden Sie sich bitte an: sebastian.gnann@hydrologie.uni-freiburg.de\n",
    "\n",
    "---\n",
    "\n",
    "Die Online-Vorlesung basiert auf einem sogenannten Jupyter Notebook (https://jupyter.org/). \n",
    "Ein Notebook besteht aus einzelnen Zellen, die entweder Markdown-Text oder Python-Code beinhalten."
   ]
  },
  {
   "cell_type": "markdown",
   "id": "a3ddf1fc-fad4-413c-8ce2-c71ac03f3223",
   "metadata": {},
   "source": [
    "TODO: Lernziele und Dokumentation..."
   ]
  },
  {
   "cell_type": "markdown",
   "id": "524d649b-33c6-463c-9203-93f4b9e7353b",
   "metadata": {},
   "source": [
    "Lade notwendige Packages."
   ]
  },
  {
   "cell_type": "code",
   "execution_count": 1,
   "id": "9af0c215-0ddb-44f7-af08-228ba9ac5cf4",
   "metadata": {},
   "outputs": [],
   "source": [
    "# import all necessary Python packages\n",
    "import matplotlib.pyplot as plt\n",
    "from matplotlib.colors import Normalize\n",
    "import numpy as np\n",
    "import pandas as pd\n",
    "import ipywidgets as widgets"
   ]
  },
  {
   "cell_type": "markdown",
   "id": "83e53936-52b8-4b27-927d-b20f80b63213",
   "metadata": {},
   "source": [
    "Wir laden zuerst die Messdaten."
   ]
  },
  {
   "cell_type": "code",
   "execution_count": 2,
   "id": "4cde2a30-4832-4bde-afa6-ad099420445b",
   "metadata": {},
   "outputs": [
    {
     "data": {
      "text/html": [
       "<div>\n",
       "<style scoped>\n",
       "    .dataframe tbody tr th:only-of-type {\n",
       "        vertical-align: middle;\n",
       "    }\n",
       "\n",
       "    .dataframe tbody tr th {\n",
       "        vertical-align: top;\n",
       "    }\n",
       "\n",
       "    .dataframe thead th {\n",
       "        text-align: right;\n",
       "    }\n",
       "</style>\n",
       "<table border=\"1\" class=\"dataframe\">\n",
       "  <thead>\n",
       "    <tr style=\"text-align: right;\">\n",
       "      <th></th>\n",
       "      <th>Zeit [s]</th>\n",
       "      <th>Konzentration [mug/l]</th>\n",
       "    </tr>\n",
       "  </thead>\n",
       "  <tbody>\n",
       "    <tr>\n",
       "      <th>0</th>\n",
       "      <td>500</td>\n",
       "      <td>0.000000</td>\n",
       "    </tr>\n",
       "    <tr>\n",
       "      <th>1</th>\n",
       "      <td>550</td>\n",
       "      <td>0.000000</td>\n",
       "    </tr>\n",
       "    <tr>\n",
       "      <th>2</th>\n",
       "      <td>660</td>\n",
       "      <td>2.043166</td>\n",
       "    </tr>\n",
       "    <tr>\n",
       "      <th>3</th>\n",
       "      <td>690</td>\n",
       "      <td>5.468405</td>\n",
       "    </tr>\n",
       "    <tr>\n",
       "      <th>4</th>\n",
       "      <td>720</td>\n",
       "      <td>7.790109</td>\n",
       "    </tr>\n",
       "  </tbody>\n",
       "</table>\n",
       "</div>"
      ],
      "text/plain": [
       "   Zeit [s]  Konzentration [mug/l]\n",
       "0       500               0.000000\n",
       "1       550               0.000000\n",
       "2       660               2.043166\n",
       "3       690               5.468405\n",
       "4       720               7.790109"
      ]
     },
     "execution_count": 2,
     "metadata": {},
     "output_type": "execute_result"
    }
   ],
   "source": [
    "C = pd.read_csv(\"Messdaten_Konzentration.csv\", sep=',')\n",
    "C.head()"
   ]
  },
  {
   "cell_type": "code",
   "execution_count": 3,
   "id": "f0ded4a4-24fb-4d79-a7c6-95849bd4a83f",
   "metadata": {},
   "outputs": [
    {
     "data": {
      "image/png": "[encoded data removed]",
      "text/plain": [
       "<Figure size 600x300 with 1 Axes>"
      ]
     },
     "metadata": {},
     "output_type": "display_data"
    }
   ],
   "source": [
    "fig, ax = plt.subplots(figsize=(6, 3))\n",
    "ax.plot(C[\"Zeit [s]\"], C[\"Konzentration [mug/l]\"], 'o', c='tab:blue')\n",
    "plt.xlabel('Zeit [s]')\n",
    "plt.ylabel('Konzentration [mug/L]')\n",
    "%matplotlib inline"
   ]
  },
  {
   "cell_type": "markdown",
   "id": "174b78fb-3d3f-4b08-8b0b-b472ac042af5",
   "metadata": {},
   "source": [
    "## Gleichung\n",
    "Die Lösung der 1-dimensionalen Advektions-Dispersions-Gleichung ist:\n",
    "$$ C(x,t) = {M \\over Q} {x \\over \\sqrt{4 \\pi D_L t^3}} \\exp{\\left[ - (x-v t)^2 \\over 4 D_L t \\right]} $$\n"
   ]
  },
  {
   "cell_type": "code",
   "execution_count": 4,
   "id": "ea56066d-be0d-4c3b-ab1e-698e65db8943",
   "metadata": {},
   "outputs": [],
   "source": [
    "def one_d_transport_equation(t, x, M, Q, D_L, v):\n",
    "    C = M/Q * (x/np.sqrt(4*np.pi*D_L*t**3)) * np.exp(-(x-v*t)**2/(4*D_L*t))\n",
    "    return C"
   ]
  },
  {
   "cell_type": "code",
   "execution_count": 17,
   "id": "b683569f-b82e-4f6d-864b-c05dedf4cde7",
   "metadata": {},
   "outputs": [
    {
     "data": {
      "application/vnd.jupyter.widget-view+json": {
       "model_id": "a2932505389b46f2a079d339ee0cb096",
       "version_major": 2,
       "version_minor": 0
      },
      "text/plain": [
       "interactive(children=(FloatSlider(value=2.5500000000000003, description='D_L', max=5.0, min=0.1), FloatSlider(…"
      ]
     },
     "metadata": {},
     "output_type": "display_data"
    }
   ],
   "source": [
    "def f(D_L, v):\n",
    "    \n",
    "    # fixed parameters\n",
    "    Q = 617 # [l/s]\n",
    "    M = 1000000 # [µg]\n",
    "    x = 450 # [m]\n",
    "\n",
    "    C_calc = one_d_transport_equation(C[\"Zeit [s]\"], x, M, Q, D_L, v)\n",
    "    \n",
    "    fig, ax = plt.subplots(figsize=(6, 3))\n",
    "    ax.plot(C[\"Zeit [s]\"], C[\"Konzentration [mug/l]\"], 'o', c='tab:blue', label='Gemessen')\n",
    "    ax.plot(C[\"Zeit [s]\"], C_calc, '-', c='tab:orange', label='Berechnet')\n",
    "    ax.set_xlim([0, 1500])\n",
    "    plt.xlabel('Zeit [s]')\n",
    "    plt.ylabel('Konzentration [mug/L]')\n",
    "    plt.legend()\n",
    "\n",
    "widgets.interact(f, D_L=(0.1,5.0), v=(0.1,2.0))\n",
    "\n",
    "%matplotlib inline"
   ]
  },
  {
   "cell_type": "markdown",
   "id": "be1243ab-edd5-447e-b218-fbca0d59665e",
   "metadata": {},
   "source": [
    "## Automatische Optimisierung\n",
    "Das manuelle Anpassen der Kurve ist in diesem Fall recht einfach, wird bei komplizierteren Problemen aber schnell sehr zeitaufwändig.\n",
    "Wie könnte man automatisch geeignete Parameter finden? "
   ]
  },
  {
   "cell_type": "code",
   "execution_count": 6,
   "id": "986cd583-e6f7-4019-9583-291c17e4eaab",
   "metadata": {},
   "outputs": [],
   "source": [
    "# calculate RMSE\n",
    "# minimise RMSE"
   ]
  },
  {
   "cell_type": "markdown",
   "id": "26c89a26-5063-4457-8f5c-1836b7946444",
   "metadata": {},
   "source": [
    "## Beispiellösungen der Advektions-Dispersions-Gleichung\n",
    "Im folgenden wird die Advektions-Dispersions-Gleichung für verschiedene Parameterwerte gelöst. Man kann sich die Lösung entweder im Raum oder in der Zeit betrachten, um das Ausbreiten eines Stoffes zu veranschaulichen.\n",
    "\n",
    "Fragen: Was passiert, wenn der Dispersionskoeffizient erhöht wird mit der Durchbruchskurve? Und was wenn die mittlere Geschwindigkeit verringert wird?\n"
   ]
  },
  {
   "cell_type": "code",
   "execution_count": 16,
   "id": "3084beee-7f98-4830-95a3-194c99a88218",
   "metadata": {},
   "outputs": [
    {
     "data": {
      "application/vnd.jupyter.widget-view+json": {
       "model_id": "6a816b18640b4eb6ad972056b937c660",
       "version_major": 2,
       "version_minor": 0
      },
      "text/plain": [
       "interactive(children=(FloatSlider(value=20.000000000000004, description='D_L', max=39.99, min=0.01), FloatSlid…"
      ]
     },
     "metadata": {},
     "output_type": "display_data"
    }
   ],
   "source": [
    "def f(D_L,v):\n",
    "    \n",
    "    # fixed parameters\n",
    "    Q = 617 # [l/s]\n",
    "    M = 1000000 # [µg]\n",
    "    x = 450 # [m]\n",
    "    \n",
    "    # plot results\n",
    "    fig, axes = plt.subplots(figsize=(12, 3), constrained_layout=True, \n",
    "                             nrows=1, ncols=2, gridspec_kw={'width_ratios': [2, 2]})\n",
    "    \n",
    "    # solve transport equation in space for a few times\n",
    "    x = np.linspace(0, 500, 1001)\n",
    "    C0 = one_d_transport_equation(1, x, M, Q, D_L, v)\n",
    "    C1 = one_d_transport_equation(20, x, M, Q, D_L, v)\n",
    "    C2 = one_d_transport_equation(50, x, M, Q, D_L, v)\n",
    "    C3 = one_d_transport_equation(100, x, M, Q, D_L, v)\n",
    "    \n",
    "    #axes[0].step(x, C0, '-', c='grey', label='t0')\n",
    "    axes[0].plot(x, C1, '-', c='tab:blue', label='t=20')\n",
    "    axes[0].plot(x, C2, '-', c='tab:orange', label='t=50')\n",
    "    axes[0].plot(x, C3, '-', c='tab:green', label='t=100')\n",
    "    #axes[0].set_xlim([0, 1000])\n",
    "    #axes[0].set_ylim([0, 250])\n",
    "    axes[0].set_xlabel('Abstand [m]')\n",
    "    axes[0].set_ylabel('Konzentration [mug/L]')\n",
    "    axes[0].legend()\n",
    "\n",
    "    # solve transport equation in time for a few locations\n",
    "    t = np.linspace(1, 251, 1001)\n",
    "    C0 = one_d_transport_equation(t, 1, M, Q, D_L, v)\n",
    "    C1 = one_d_transport_equation(t, 20, M, Q, D_L, v)\n",
    "    C2 = one_d_transport_equation(t, 50, M, Q, D_L, v)\n",
    "    C3 = one_d_transport_equation(t, 100, M, Q, D_L, v)\n",
    "    \n",
    "    #ax.step(x, C0, '-', c='grey', label='x0')\n",
    "    axes[1].plot(t, C1, '-', c='tab:blue', label='x=20')\n",
    "    axes[1].plot(t, C2, '-', c='tab:orange', label='x=50')\n",
    "    axes[1].plot(t, C3, '-', c='tab:green', label='x=100')\n",
    "    #axes[1].set_xlim([0, 1000])\n",
    "    #axes[1].set_ylim([0, 250])\n",
    "    axes[1].set_xlabel('Zeit [s]')\n",
    "    axes[1].set_ylabel('Konzentration [mug/L]')\n",
    "    axes[1].legend()\n",
    "\n",
    "widgets.interact(f, D_L=(0.01,39.99), v=(0.01,3.99))\n",
    "\n",
    "%matplotlib inline"
   ]
  },
  {
   "cell_type": "code",
   "execution_count": 9,
   "id": "cf7ccfdc-b7c5-4002-8bb9-354232dd4a50",
   "metadata": {},
   "outputs": [
    {
     "data": {
      "application/vnd.jupyter.widget-view+json": {
       "model_id": "78d2d7c03bd84e72871454f6e6405642",
       "version_major": 2,
       "version_minor": 0
      },
      "text/plain": [
       "interactive(children=(FloatSlider(value=20.000000000000004, description='D_L', max=39.99, min=0.01), FloatSlid…"
      ]
     },
     "metadata": {},
     "output_type": "display_data"
    }
   ],
   "source": [
    "# show base case and change in both space and time \n",
    "def f(D_L,v):\n",
    "    \n",
    "    # fixed parameters\n",
    "    Q = 617 # [l/s]\n",
    "    M = 1000000 # [µg]\n",
    "    x = 450 # [m]\n",
    "\n",
    "    # variable parameters\n",
    "    D_L_default = 20.01 #1.5 # [m²/s]\n",
    "    v_default = 2.01 # [m/s]\t\n",
    "\n",
    "    # time and space variables\n",
    "    x = np.linspace(0, 250, 1001)\n",
    "    x_fix = 50\n",
    "    t = np.linspace(1, 126, 1001)\n",
    "    t_fix = 50\n",
    "\n",
    "    # solve transport equation\n",
    "    C_t_default = one_d_transport_equation(t_fix, x, M, Q, D_L_default, v_default)\n",
    "    C_t_variable = one_d_transport_equation(t_fix, x, M, Q, D_L, v)\n",
    "    C_x_default = one_d_transport_equation(t, x_fix, M, Q, D_L_default, v_default)\n",
    "    C_x_variable = one_d_transport_equation(t, x_fix, M, Q, D_L, v)\n",
    "\n",
    "    # plot results\n",
    "    fig, axes = plt.subplots(figsize=(12, 3), constrained_layout=True, \n",
    "                             nrows=1, ncols=2, gridspec_kw={'width_ratios': [2, 2]})\n",
    "    \n",
    "    axes[0].axvline(x = x_fix, color = 'lightgrey')\n",
    "    axes[0].plot(x, C_t_default, '-', c='grey', label='D_L = 20.01; v = 2.01')\n",
    "    axes[0].plot(x, C_t_variable, '-', c='tab:blue', label='D_L = ' + str(D_L) + '; v = ' + str(v))\n",
    "    axes[0].set_title('Zeit = ' + str(t_fix) + 's')\n",
    "    axes[0].set_xlabel('Abstand [m]')\n",
    "    axes[0].set_ylabel('Konzentration [mug/L]')\n",
    "    axes[0].legend()\n",
    "\n",
    "    axes[1].axvline(x = t_fix, color = 'lightgrey')  \n",
    "    axes[1].plot(t, C_x_default, '-', c='grey', label='D_L = 20.01; v = 2.01')\n",
    "    axes[1].plot(t, C_x_variable, '-', c='tab:blue', label='D_L = ' + str(D_L) + '; v = ' + str(v))\n",
    "    axes[1].set_title('Abstand = ' + str(x_fix) + 'm')\n",
    "    axes[1].set_xlabel('Zeit [s]')\n",
    "    axes[1].set_ylabel('Konzentration [mug/L]')\n",
    "    axes[1].legend()\n",
    "\n",
    "widgets.interact(f, D_L=(0.01,39.99), v=(0.01,3.99))\n",
    "\n",
    "%matplotlib inline"
   ]
  },
  {
   "cell_type": "code",
   "execution_count": null,
   "id": "9d9e3c2a-4f0b-4ab2-9879-744f016a406a",
   "metadata": {},
   "outputs": [],
   "source": []
  }
 ],
 "metadata": {
  "kernelspec": {
   "display_name": "Python 3 (ipykernel)",
   "language": "python",
   "name": "python3"
  },
  "language_info": {
   "codemirror_mode": {
    "name": "ipython",
    "version": 3
   },
   "file_extension": ".py",
   "mimetype": "text/x-python",
   "name": "python",
   "nbconvert_exporter": "python",
   "pygments_lexer": "ipython3",
   "version": "3.12.0"
  }
 },
 "nbformat": 4,
 "nbformat_minor": 5
}
